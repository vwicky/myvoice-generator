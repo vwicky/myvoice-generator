{
 "cells": [
  {
   "cell_type": "markdown",
   "id": "112c85aa",
   "metadata": {},
   "source": [
    "# checking different stuff for TTS and etc."
   ]
  },
  {
   "cell_type": "markdown",
   "id": "cfd79422",
   "metadata": {},
   "source": [
    "## preparing a script fo recording"
   ]
  },
  {
   "cell_type": "code",
   "execution_count": 1,
   "id": "c2a45bda",
   "metadata": {},
   "outputs": [
    {
     "name": "stderr",
     "output_type": "stream",
     "text": [
      "[nltk_data] Downloading package punkt to\n",
      "[nltk_data]     C:\\Users\\Omen\\AppData\\Roaming\\nltk_data...\n",
      "[nltk_data]   Package punkt is already up-to-date!\n"
     ]
    }
   ],
   "source": [
    "import os\n",
    "import nltk\n",
    "nltk.download('punkt')\n",
    "from nltk.tokenize import sent_tokenize"
   ]
  },
  {
   "cell_type": "code",
   "execution_count": 2,
   "id": "f0b8d125",
   "metadata": {},
   "outputs": [],
   "source": [
    "# Read book text\n",
    "book_src = \"./data/Unbearable_lightness_of_being.txt\"\n",
    "with open(book_src, \"r\", encoding=\"utf-8\") as f:\n",
    "    text = f.read()"
   ]
  },
  {
   "cell_type": "code",
   "execution_count": 3,
   "id": "338d1d91",
   "metadata": {},
   "outputs": [],
   "source": [
    "# Split into sentences\n",
    "sentences = sent_tokenize(text)"
   ]
  },
  {
   "cell_type": "code",
   "execution_count": 7,
   "id": "f31f9768",
   "metadata": {},
   "outputs": [
    {
     "name": "stdout",
     "output_type": "stream",
     "text": [
      "Ми повинні сприймати його приблизно так, як, скажімо, війну поміж двома африканськими державами в чотирнадцятому сторіччі, яка нічого не змінила на карті світу, хоч тоді загинуло в невимовних муках триста тисяч негрів.\n"
     ]
    }
   ],
   "source": [
    "print(sentences[3])"
   ]
  },
  {
   "cell_type": "code",
   "execution_count": 10,
   "id": "47c94447",
   "metadata": {},
   "outputs": [],
   "source": [
    "# Save into numbered lines\n",
    "os.makedirs(\"./data/script\", exist_ok=True)\n",
    "with open(\"./data/metadata.csv\", \"w\", encoding=\"utf-8\") as meta:\n",
    "    for i, sentence in enumerate(sentences):\n",
    "        fname = f\"line_{i:04d}.wav\"\n",
    "        meta.write(f\"{fname}|{sentence.strip()}\\n\")\n",
    "        with open(f\"./data/script/line_{i:04d}.txt\", \"w\", encoding=\"utf-8\") as linefile:\n",
    "            linefile.write(sentence.strip())"
   ]
  },
  {
   "cell_type": "markdown",
   "id": "284343f6",
   "metadata": {},
   "source": [
    "This gives you:\n",
    "1. metadata.csv\n",
    "2. script/line_0000.txt, etc., for recording reference"
   ]
  },
  {
   "cell_type": "markdown",
   "id": "abe36cc4",
   "metadata": {},
   "source": [
    "# ----"
   ]
  },
  {
   "cell_type": "code",
   "execution_count": null,
   "id": "fa6c428e",
   "metadata": {},
   "outputs": [],
   "source": []
  }
 ],
 "metadata": {
  "kernelspec": {
   "display_name": "Python 3",
   "language": "python",
   "name": "python3"
  },
  "language_info": {
   "codemirror_mode": {
    "name": "ipython",
    "version": 3
   },
   "file_extension": ".py",
   "mimetype": "text/x-python",
   "name": "python",
   "nbconvert_exporter": "python",
   "pygments_lexer": "ipython3",
   "version": "3.11.3"
  }
 },
 "nbformat": 4,
 "nbformat_minor": 5
}
